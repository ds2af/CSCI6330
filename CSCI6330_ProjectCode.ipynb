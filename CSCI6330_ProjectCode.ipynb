{
  "nbformat": 4,
  "nbformat_minor": 0,
  "metadata": {
    "colab": {
      "provenance": [],
      "include_colab_link": true
    },
    "kernelspec": {
      "name": "python3",
      "display_name": "Python 3"
    },
    "language_info": {
      "name": "python"
    }
  },
  "cells": [
    {
      "cell_type": "markdown",
      "metadata": {
        "id": "view-in-github",
        "colab_type": "text"
      },
      "source": [
        "<a href=\"https://colab.research.google.com/github/ds2af/CSCI6330/blob/main/CSCI6330_ProjectCode.ipynb\" target=\"_parent\"><img src=\"https://colab.research.google.com/assets/colab-badge.svg\" alt=\"Open In Colab\"/></a>"
      ]
    },
    {
      "cell_type": "markdown",
      "source": [
        "## CSCI 6330\n",
        "### Project Code"
      ],
      "metadata": {
        "id": "UHU-tA4KmLNP"
      }
    },
    {
      "cell_type": "markdown",
      "source": [
        "### Wind Farms Data"
      ],
      "metadata": {
        "id": "mPag8YJXPdeY"
      }
    },
    {
      "cell_type": "code",
      "execution_count": null,
      "metadata": {
        "id": "nCZ7iXplmKpz",
        "colab": {
          "base_uri": "https://localhost:8080/"
        },
        "outputId": "cba8fe5e-7eeb-42f9-a3b1-de9861b59caf"
      },
      "outputs": [
        {
          "output_type": "stream",
          "name": "stdout",
          "text": [
            "Mounted at /content/drive\n"
          ]
        }
      ],
      "source": [
        "from google.colab import drive\n",
        "drive.mount('/content/drive')"
      ]
    },
    {
      "cell_type": "code",
      "source": [
        "!pip install -qq gdown==4.6.0 torchinfo"
      ],
      "metadata": {
        "id": "i22k3OmBMGoY"
      },
      "execution_count": null,
      "outputs": []
    },
    {
      "cell_type": "code",
      "source": [
        "!gdown \"1UgYiB00Pg5pk1bdexFiFnLrhFC5LeKKx\"\n"
      ],
      "metadata": {
        "colab": {
          "base_uri": "https://localhost:8080/"
        },
        "id": "G0zROvBtNjgB",
        "outputId": "eb7594b9-3776-4ef8-dcfd-2d4ba20ddf04"
      },
      "execution_count": null,
      "outputs": [
        {
          "output_type": "stream",
          "name": "stdout",
          "text": [
            "Downloading...\n",
            "From: https://drive.google.com/uc?id=1UgYiB00Pg5pk1bdexFiFnLrhFC5LeKKx\n",
            "To: /content/GEF2012-wind-forecasting.zip\n",
            "\r  0% 0.00/8.36M [00:00<?, ?B/s]\r 75% 6.29M/8.36M [00:00<00:00, 62.0MB/s]\r100% 8.36M/8.36M [00:00<00:00, 75.1MB/s]\n"
          ]
        }
      ]
    },
    {
      "cell_type": "code",
      "source": [
        "!rm -rf \"wind_data\"\n",
        "!mkdir \"wind_data\"\n",
        "!unzip -oj \"/content/GEF2012-wind-forecasting\" -d \"wind_data\""
      ],
      "metadata": {
        "colab": {
          "base_uri": "https://localhost:8080/"
        },
        "id": "76vPcViXOCTX",
        "outputId": "a593de0d-70d8-41b7-e109-6c3b02362f28"
      },
      "execution_count": null,
      "outputs": [
        {
          "output_type": "stream",
          "name": "stdout",
          "text": [
            "Archive:  /content/GEF2012-wind-forecasting.zip\n",
            "  inflating: wind_data/._GEF2012-wind-forecasting  \n",
            "  inflating: wind_data/windforecasts_wf2.csv  \n",
            "  inflating: wind_data/._windforecasts_wf2.csv  \n",
            "  inflating: wind_data/windforecasts_wf3.csv  \n",
            "  inflating: wind_data/._windforecasts_wf3.csv  \n",
            "  inflating: wind_data/test.csv      \n",
            "  inflating: wind_data/._test.csv    \n",
            "  inflating: wind_data/windforecasts_wf1.csv  \n",
            "  inflating: wind_data/._windforecasts_wf1.csv  \n",
            "  inflating: wind_data/benchmark.csv  \n",
            "  inflating: wind_data/._benchmark.csv  \n",
            "  inflating: wind_data/windforecasts_wf4.csv  \n",
            "  inflating: wind_data/._windforecasts_wf4.csv  \n",
            "  inflating: wind_data/windforecasts_wf5.csv  \n",
            "  inflating: wind_data/._windforecasts_wf5.csv  \n",
            "  inflating: wind_data/windforecasts_wf7.csv  \n",
            "  inflating: wind_data/._windforecasts_wf7.csv  \n",
            "  inflating: wind_data/windforecasts_wf6.csv  \n",
            "  inflating: wind_data/._windforecasts_wf6.csv  \n",
            "  inflating: wind_data/train.csv     \n",
            "  inflating: wind_data/._train.csv   \n"
          ]
        }
      ]
    },
    {
      "cell_type": "markdown",
      "source": [
        "### s&p500 Data"
      ],
      "metadata": {
        "id": "wHCKeGpiPhyU"
      }
    },
    {
      "cell_type": "code",
      "source": [
        "!gdown \"1Yx1RLtbIEyxImj0D4J20OpzIS-ItzWL7\""
      ],
      "metadata": {
        "colab": {
          "base_uri": "https://localhost:8080/"
        },
        "id": "9bTC4QpgOPLR",
        "outputId": "204f3f02-2557-4504-b471-fea74e6ff0da"
      },
      "execution_count": null,
      "outputs": [
        {
          "output_type": "stream",
          "name": "stdout",
          "text": [
            "Downloading...\n",
            "From: https://drive.google.com/uc?id=1Yx1RLtbIEyxImj0D4J20OpzIS-ItzWL7\n",
            "To: /content/s&p500.zip\n",
            "100% 45.8M/45.8M [00:00<00:00, 102MB/s] \n"
          ]
        }
      ]
    },
    {
      "cell_type": "code",
      "source": [
        "!rm -rf \"s&p500\"\n",
        "!mkdir \"s&p500\"\n",
        "!unzip -oj \"/content/s&p500.zip\" -d \"s&p500\""
      ],
      "metadata": {
        "colab": {
          "base_uri": "https://localhost:8080/"
        },
        "id": "YRpvYSyeO99Z",
        "outputId": "972c8c1f-8443-4b93-a3c8-c4074252ce84"
      },
      "execution_count": null,
      "outputs": [
        {
          "output_type": "stream",
          "name": "stdout",
          "text": [
            "Archive:  /content/s&p500.zip\n",
            "  inflating: s&p500/._s&p500         \n",
            "  inflating: s&p500/sp500_stocks.csv  \n",
            "  inflating: s&p500/._sp500_stocks.csv  \n",
            "  inflating: s&p500/sp500_companies.csv  \n",
            "  inflating: s&p500/._sp500_companies.csv  \n",
            "  inflating: s&p500/sp500_index.csv  \n",
            "  inflating: s&p500/._sp500_index.csv  \n"
          ]
        }
      ]
    },
    {
      "cell_type": "code",
      "source": [],
      "metadata": {
        "id": "KBX96OV0PHlY"
      },
      "execution_count": null,
      "outputs": []
    }
  ]
}